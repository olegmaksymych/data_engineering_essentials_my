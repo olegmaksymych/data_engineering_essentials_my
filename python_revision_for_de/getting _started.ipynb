{
 "cells": [
  {
   "cell_type": "code",
   "id": "initial_id",
   "metadata": {
    "collapsed": true,
    "ExecuteTime": {
     "end_time": "2025-01-20T11:35:45.222122Z",
     "start_time": "2025-01-20T11:35:45.214138Z"
    }
   },
   "source": [
    "orders = [\n",
    "    '1,2013-07-25 00:00:00.0,11599,CLOSED',\n",
    "    '2,2013-07-25 00:00:00.0,256,PENDING_PAYMENT',\n",
    "    '3,2013-07-25 00:00:00.0,12111,COMPLETE',\n",
    "    '4,2013-07-25 00:00:00.0,8827,CLOSED',\n",
    "    '5,2013-07-25 00:00:00.0,11318,COMPLETE',\n",
    "    '6,2013-07-25 00:00:00.0,7130,COMPLETE',\n",
    "    '7,2013-07-25 00:00:00.0,4530,COMPLETE',\n",
    "    '8,2013-07-25 00:00:00.0,2911,PROCESSING',\n",
    "    '9,2013-07-25 00:00:00.0,5657,PENDING_PAYMENT',\n",
    "    '10,2013-07-25 00:00:00.0,5648,PENDING_PAYMENT',\n",
    "    '11,2013-07-25 00:00:00.0,918,PAYMENT_REVIEW',\n",
    "    '12,2013-07-25 00:00:00.0,1837,CLOSED',\n",
    "    '13,2013-07-25 00:00:00.0,9149,PENDING_PAYMENT',\n",
    "    '14,2013-07-25 00:00:00.0,9842,PROCESSING',\n",
    "    '15,2013-07-25 00:00:00.0,2568,COMPLETE',\n",
    "    '16,2013-07-25 00:00:00.0,7276,PENDING_PAYMENT',\n",
    "    '17,2013-07-25 00:00:00.0,2667,COMPLETE',\n",
    "    '18,2013-07-25 00:00:00.0,1205,CLOSED',\n",
    "    '19,2013-07-25 00:00:00.0,9488,PENDING_PAYMENT',\n",
    "    '20,2013-07-25 00:00:00.0,9198,PROCESSING'\n",
    " ]"
   ],
   "outputs": [],
   "execution_count": 93
  },
  {
   "metadata": {
    "ExecuteTime": {
     "end_time": "2025-01-20T11:35:45.259898Z",
     "start_time": "2025-01-20T11:35:45.248047Z"
    }
   },
   "cell_type": "code",
   "source": "set(list(map(lambda order: order.split(',')[3], orders)))",
   "id": "3b716792549829d2",
   "outputs": [
    {
     "data": {
      "text/plain": [
       "{'CLOSED', 'COMPLETE', 'PAYMENT_REVIEW', 'PENDING_PAYMENT', 'PROCESSING'}"
      ]
     },
     "execution_count": 94,
     "metadata": {},
     "output_type": "execute_result"
    }
   ],
   "execution_count": 94
  },
  {
   "metadata": {
    "ExecuteTime": {
     "end_time": "2025-01-20T11:35:45.309449Z",
     "start_time": "2025-01-20T11:35:45.298304Z"
    }
   },
   "cell_type": "code",
   "source": "sorted(orders, key=lambda order: int(order.split(',')[2]), reverse=True)",
   "id": "8a8af83b07777680",
   "outputs": [
    {
     "data": {
      "text/plain": [
       "['3,2013-07-25 00:00:00.0,12111,COMPLETE',\n",
       " '1,2013-07-25 00:00:00.0,11599,CLOSED',\n",
       " '5,2013-07-25 00:00:00.0,11318,COMPLETE',\n",
       " '14,2013-07-25 00:00:00.0,9842,PROCESSING',\n",
       " '19,2013-07-25 00:00:00.0,9488,PENDING_PAYMENT',\n",
       " '20,2013-07-25 00:00:00.0,9198,PROCESSING',\n",
       " '13,2013-07-25 00:00:00.0,9149,PENDING_PAYMENT',\n",
       " '4,2013-07-25 00:00:00.0,8827,CLOSED',\n",
       " '16,2013-07-25 00:00:00.0,7276,PENDING_PAYMENT',\n",
       " '6,2013-07-25 00:00:00.0,7130,COMPLETE',\n",
       " '9,2013-07-25 00:00:00.0,5657,PENDING_PAYMENT',\n",
       " '10,2013-07-25 00:00:00.0,5648,PENDING_PAYMENT',\n",
       " '7,2013-07-25 00:00:00.0,4530,COMPLETE',\n",
       " '8,2013-07-25 00:00:00.0,2911,PROCESSING',\n",
       " '17,2013-07-25 00:00:00.0,2667,COMPLETE',\n",
       " '15,2013-07-25 00:00:00.0,2568,COMPLETE',\n",
       " '12,2013-07-25 00:00:00.0,1837,CLOSED',\n",
       " '18,2013-07-25 00:00:00.0,1205,CLOSED',\n",
       " '11,2013-07-25 00:00:00.0,918,PAYMENT_REVIEW',\n",
       " '2,2013-07-25 00:00:00.0,256,PENDING_PAYMENT']"
      ]
     },
     "execution_count": 95,
     "metadata": {},
     "output_type": "execute_result"
    }
   ],
   "execution_count": 95
  },
  {
   "metadata": {
    "ExecuteTime": {
     "end_time": "2025-01-20T11:35:45.340639Z",
     "start_time": "2025-01-20T11:35:45.333379Z"
    }
   },
   "cell_type": "code",
   "source": "order_jd = \"{\\\"order_id\\\": 1, \\\"order_date\\\": \\\"2013-07-25\\\"}\"",
   "id": "ffbfb9637ea69d67",
   "outputs": [],
   "execution_count": 96
  },
  {
   "metadata": {
    "ExecuteTime": {
     "end_time": "2025-01-20T11:35:45.387013Z",
     "start_time": "2025-01-20T11:35:45.376051Z"
    }
   },
   "cell_type": "code",
   "source": "order_jd",
   "id": "65bf7647ad2779c6",
   "outputs": [
    {
     "data": {
      "text/plain": [
       "'{\"order_id\": 1, \"order_date\": \"2013-07-25\"}'"
      ]
     },
     "execution_count": 97,
     "metadata": {},
     "output_type": "execute_result"
    }
   ],
   "execution_count": 97
  },
  {
   "metadata": {
    "ExecuteTime": {
     "end_time": "2025-01-20T11:35:45.410569Z",
     "start_time": "2025-01-20T11:35:45.403473Z"
    }
   },
   "cell_type": "code",
   "source": "import json",
   "id": "24a19b89ea9ace52",
   "outputs": [],
   "execution_count": 98
  },
  {
   "metadata": {
    "ExecuteTime": {
     "end_time": "2025-01-20T11:35:45.432509Z",
     "start_time": "2025-01-20T11:35:45.425528Z"
    }
   },
   "cell_type": "code",
   "source": "file_path = 'C:/Users/5095/Documents/udemy1/data/retail_db/schemas.json'",
   "id": "7d15ea1b9b881612",
   "outputs": [],
   "execution_count": 99
  },
  {
   "metadata": {
    "ExecuteTime": {
     "end_time": "2025-01-20T11:35:45.466324Z",
     "start_time": "2025-01-20T11:35:45.457950Z"
    }
   },
   "cell_type": "code",
   "source": "schemas = json.load(open(file_path))",
   "id": "35bd6ea122acaaa9",
   "outputs": [],
   "execution_count": 100
  },
  {
   "metadata": {
    "ExecuteTime": {
     "end_time": "2025-01-20T11:36:09.781364Z",
     "start_time": "2025-01-20T11:36:09.771963Z"
    }
   },
   "cell_type": "code",
   "source": "schemas['orders']",
   "id": "ed760f62c94075d7",
   "outputs": [
    {
     "data": {
      "text/plain": [
       "[{'column_name': 'order_id', 'data_type': 'integer', 'column_position': 1},\n",
       " {'column_name': 'order_date', 'data_type': 'string', 'column_position': 2},\n",
       " {'column_name': 'order_customer_id',\n",
       "  'data_type': 'timestamp',\n",
       "  'column_position': 3},\n",
       " {'column_name': 'order_status', 'data_type': 'string', 'column_position': 4}]"
      ]
     },
     "execution_count": 101,
     "metadata": {},
     "output_type": "execute_result"
    }
   ],
   "execution_count": 101
  },
  {
   "metadata": {
    "ExecuteTime": {
     "end_time": "2025-01-20T11:46:56.805722Z",
     "start_time": "2025-01-20T11:46:56.797539Z"
    }
   },
   "cell_type": "code",
   "source": "column_details = schemas['orders']",
   "id": "90c86e36c006ff0c",
   "outputs": [],
   "execution_count": 108
  },
  {
   "metadata": {
    "ExecuteTime": {
     "end_time": "2025-01-20T11:41:12.879062Z",
     "start_time": "2025-01-20T11:41:12.867023Z"
    }
   },
   "cell_type": "code",
   "source": "[col['column_name'] for col in column_details]",
   "id": "54147a1a954702c3",
   "outputs": [
    {
     "data": {
      "text/plain": [
       "list"
      ]
     },
     "execution_count": 104,
     "metadata": {},
     "output_type": "execute_result"
    }
   ],
   "execution_count": 104
  },
  {
   "metadata": {
    "ExecuteTime": {
     "end_time": "2025-01-20T11:42:51.123754Z",
     "start_time": "2025-01-20T11:42:51.112279Z"
    }
   },
   "cell_type": "code",
   "source": "list(map(lambda col: col['column_name'], column_details))",
   "id": "caefff2edb7c28a0",
   "outputs": [
    {
     "data": {
      "text/plain": [
       "['order_id', 'order_date', 'order_customer_id', 'order_status']"
      ]
     },
     "execution_count": 106,
     "metadata": {},
     "output_type": "execute_result"
    }
   ],
   "execution_count": 106
  },
  {
   "metadata": {
    "ExecuteTime": {
     "end_time": "2025-01-20T11:46:14.826404Z",
     "start_time": "2025-01-20T11:46:14.813466Z"
    }
   },
   "cell_type": "code",
   "source": "sorted(column_details, key=lambda col: col['column_name']) #ось так сортують словники",
   "id": "2dc6237d52e4eafa",
   "outputs": [
    {
     "data": {
      "text/plain": [
       "[{'column_name': 'order_customer_id',\n",
       "  'data_type': 'timestamp',\n",
       "  'column_position': 3},\n",
       " {'column_name': 'order_date', 'data_type': 'string', 'column_position': 2},\n",
       " {'column_name': 'order_id', 'data_type': 'integer', 'column_position': 1},\n",
       " {'column_name': 'order_status', 'data_type': 'string', 'column_position': 4}]"
      ]
     },
     "execution_count": 107,
     "metadata": {},
     "output_type": "execute_result"
    }
   ],
   "execution_count": 107
  },
  {
   "metadata": {
    "ExecuteTime": {
     "end_time": "2025-01-20T11:51:11.766584Z",
     "start_time": "2025-01-20T11:50:59.002877Z"
    }
   },
   "cell_type": "code",
   "source": "sorting_key = input('Enter sorting key: ')",
   "id": "ce3a070d4dd33499",
   "outputs": [],
   "execution_count": 109
  },
  {
   "metadata": {
    "ExecuteTime": {
     "end_time": "2025-01-20T11:51:49.583128Z",
     "start_time": "2025-01-20T11:51:49.572653Z"
    }
   },
   "cell_type": "code",
   "source": "columns = sorted(column_details, key=lambda col: col[sorting_key])",
   "id": "7b45b427a7a21e9d",
   "outputs": [],
   "execution_count": 111
  },
  {
   "metadata": {
    "ExecuteTime": {
     "end_time": "2025-01-20T11:52:19.910489Z",
     "start_time": "2025-01-20T11:52:19.899463Z"
    }
   },
   "cell_type": "code",
   "source": "[col['column_name'] for col in columns]",
   "id": "3cb6cab979d2d547",
   "outputs": [
    {
     "data": {
      "text/plain": [
       "['order_customer_id', 'order_date', 'order_id', 'order_status']"
      ]
     },
     "execution_count": 112,
     "metadata": {},
     "output_type": "execute_result"
    }
   ],
   "execution_count": 112
  },
  {
   "metadata": {
    "ExecuteTime": {
     "end_time": "2025-01-20T11:57:12.222577Z",
     "start_time": "2025-01-20T11:57:12.211053Z"
    }
   },
   "cell_type": "code",
   "source": [
    "def get_column_names(schemas, ds_name, sorting_key='column_position'):\n",
    "    column_details = schemas[ds_name]\n",
    "    columns = sorted(column_details, key=lambda col: col[sorting_key])\n",
    "    return [col['column_name'] for col in columns]"
   ],
   "id": "5f1f8f4aa8963718",
   "outputs": [],
   "execution_count": 113
  },
  {
   "metadata": {
    "ExecuteTime": {
     "end_time": "2025-01-20T11:57:13.575061Z",
     "start_time": "2025-01-20T11:57:13.563196Z"
    }
   },
   "cell_type": "code",
   "source": "get_column_names(schemas, 'orders')",
   "id": "2edf8c49cdbd3527",
   "outputs": [
    {
     "data": {
      "text/plain": [
       "['order_id', 'order_date', 'order_customer_id', 'order_status']"
      ]
     },
     "execution_count": 114,
     "metadata": {},
     "output_type": "execute_result"
    }
   ],
   "execution_count": 114
  },
  {
   "metadata": {},
   "cell_type": "markdown",
   "source": "",
   "id": "38e4f874341b70f6"
  },
  {
   "metadata": {},
   "cell_type": "code",
   "outputs": [],
   "execution_count": null,
   "source": "",
   "id": "f00f6025ef8ff8e9"
  }
 ],
 "metadata": {
  "kernelspec": {
   "display_name": "Python 3",
   "language": "python",
   "name": "python3"
  },
  "language_info": {
   "codemirror_mode": {
    "name": "ipython",
    "version": 3
   },
   "file_extension": ".py",
   "mimetype": "text/x-python",
   "name": "python",
   "nbconvert_exporter": "python",
   "pygments_lexer": "ipython3",
   "version": "3.12.8"
  }
 },
 "nbformat": 4,
 "nbformat_minor": 5
}
